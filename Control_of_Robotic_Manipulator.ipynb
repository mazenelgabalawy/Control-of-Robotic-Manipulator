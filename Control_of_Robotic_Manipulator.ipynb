{
 "cells": [
  {
   "cell_type": "markdown",
   "id": "c5d2930a",
   "metadata": {},
   "source": [
    "# Project Obejctive:\n",
    "\n",
    "### The project aims to apply the principles of Forward and Inverse Kinematics to a Robot Manipulator. CoppeliaSim was used as the simulation tool where the UR5 robot manipulator was used as an example. The robot is capable of preforming both Forward and Inverse Kinematics, as well as simple Linear Interpolation. The script can be easily edited to allow for more complex tasks such as pick and place."
   ]
  },
  {
   "cell_type": "code",
   "execution_count": 2,
   "id": "2b14375a",
   "metadata": {},
   "outputs": [],
   "source": [
    "import numpy as np\n",
    "import time\n",
    "from Kinematics import *\n",
    "from Trajectory_planning import *\n",
    "\n",
    "#import zmqRemoteApi and make an instance of the RemoteAPIClient class\n",
    "from coppeliasim_zmqremoteapi_client import RemoteAPIClient\n",
    "\n",
    "client = RemoteAPIClient()\n",
    "sim = client.getObject('sim')\n"
   ]
  },
  {
   "cell_type": "markdown",
   "id": "66ab63f2",
   "metadata": {},
   "source": [
    "# Get necessary objects from CoppeliaSim"
   ]
  },
  {
   "cell_type": "code",
   "execution_count": 3,
   "id": "db5352cf",
   "metadata": {},
   "outputs": [],
   "source": [
    "frame_handles = [sim.getObject(f'/Frame{i}') for i in range(7)]\n",
    "joint_handles = [sim.getObject(f'/joint{i+1}') for i in range(6)]\n",
    "target_dummy = sim.getObject('/Target_Dummy')\n",
    "\n",
    "joint_types = ['revolute' for i in range(6)]"
   ]
  },
  {
   "cell_type": "markdown",
   "id": "d313fa70",
   "metadata": {},
   "source": [
    "# Make sure joints are in their zero positions"
   ]
  },
  {
   "cell_type": "code",
   "execution_count": 4,
   "id": "c16c8d8c",
   "metadata": {},
   "outputs": [],
   "source": [
    "for i in range(6):\n",
    "    sim.setJointTargetPosition(joint_handles[i],0)"
   ]
  },
  {
   "cell_type": "markdown",
   "id": "06d03fa8",
   "metadata": {},
   "source": [
    "# Forward Kinematics"
   ]
  },
  {
   "cell_type": "markdown",
   "id": "b0203978",
   "metadata": {},
   "source": [
    "## Choose the desired joint angles"
   ]
  },
  {
   "cell_type": "code",
   "execution_count": null,
   "id": "dd56013e",
   "metadata": {},
   "outputs": [],
   "source": [
    "# Case 1\n",
    "q = np.array([90,-45,90,30,-60,90])*np.pi/180"
   ]
  },
  {
   "cell_type": "code",
   "execution_count": null,
   "id": "0bbc067a",
   "metadata": {},
   "outputs": [],
   "source": [
    "# Case 2\n",
    "q = np.array([-45,90,-30,-45,30,0])*np.pi/180"
   ]
  },
  {
   "cell_type": "code",
   "execution_count": null,
   "id": "ef441bfc",
   "metadata": {},
   "outputs": [],
   "source": [
    "# Case 3\n",
    "q = np.array([45,30,90,-30,-90,30])*np.pi/180"
   ]
  },
  {
   "cell_type": "code",
   "execution_count": null,
   "id": "2aa2b40c",
   "metadata": {
    "scrolled": true
   },
   "outputs": [],
   "source": [
    "#get DH-table for the required joint angles\n",
    "dh_table = get_dh_table(q)\n",
    "\n",
    "# Get Transformation from end-effector frame to base frame\n",
    "T6_0 = to_base_frame(dh_table)[-1]\n",
    "\n",
    "# Move joint angles in CoppeliaSim and compare with the analytical results\n",
    "sim.startSimulation()\n",
    "for i in range(6):\n",
    "    sim.setJointTargetPosition(joint_handles[i],q[i])\n",
    "\n",
    "print(\"T6_0\\n\",T6_0.round(3))\n",
    "\n",
    "time.sleep(2)\n",
    "print(\"EE_pose\\n\",np.array(sim.getObjectMatrix(frame_handles[6],frame_handles[0])).round(3).reshape(3,4))"
   ]
  },
  {
   "cell_type": "markdown",
   "id": "96597691",
   "metadata": {},
   "source": [
    "# Inverse Kinematics"
   ]
  },
  {
   "cell_type": "code",
   "execution_count": 5,
   "id": "ce5e6558",
   "metadata": {},
   "outputs": [],
   "source": [
    "#initial joint angles to make sure robot is out of singularity\n",
    "q_current = [ 90*np.pi/180, 0, -90*np.pi/180, 0 , 90*np.pi/180,0*np.pi/180] \n",
    "\n",
    "max_iter = 30 #max iterations of IK alogorithm\n",
    "\n",
    "sim.startSimulation()\n",
    "\n",
    "# move robot to an initial pose away from the robot's singularity\n",
    "for i in range(6):\n",
    "    sim.setJointTargetPosition(joint_handles[i],q_current[i])\n",
    "\n",
    "time.sleep(2)"
   ]
  },
  {
   "cell_type": "markdown",
   "id": "658dc4bf",
   "metadata": {},
   "source": [
    "## Follow target dummy in real-time"
   ]
  },
  {
   "cell_type": "code",
   "execution_count": null,
   "id": "a5e4030d",
   "metadata": {
    "scrolled": true
   },
   "outputs": [],
   "source": [
    "#move robot end-effector with the target-dummy in real-time\n",
    "while(1):\n",
    "    n = 0\n",
    "\n",
    "    # desired pose is the same as the target-dummy\n",
    "    desired_pose =np.array(sim.getObjectMatrix(target_dummy,frame_handles[0])).round(3).reshape(3,4)\n",
    "    \n",
    "    #get new joint angles and error\n",
    "    q_current , error = ik(q_current,desired_pose,joint_types)\n",
    "\n",
    "    # Apply the Newton-Raphson method until the error is less than 0.0001 as long as\n",
    "    # the number of iterations is less than the maximum allowed\n",
    "    while(error > 0.001):\n",
    "        if(n < max_iter):\n",
    "            n += 1\n",
    "            for i in range(6):\n",
    "                sim.setJointTargetPosition(joint_handles[i],q_current[i])\n",
    "            \n",
    "            q_current , error = ik(q_current,desired_pose,joint_types)\n",
    "        else:\n",
    "            break\n"
   ]
  },
  {
   "cell_type": "markdown",
   "id": "c043bb8d",
   "metadata": {},
   "source": [
    "### Choose desired pose to go to"
   ]
  },
  {
   "cell_type": "code",
   "execution_count": null,
   "id": "c8622ed3",
   "metadata": {},
   "outputs": [],
   "source": [
    "p1 = sim.getObjectHandle('/p1')\n",
    "desired_pose = np.array(sim.getObjectMatrix(p1,frame_handles[0])).round(3).reshape(3,4)"
   ]
  },
  {
   "cell_type": "code",
   "execution_count": null,
   "id": "e341e50b",
   "metadata": {},
   "outputs": [],
   "source": [
    "p2 = sim.getObjectHandle('/p2')\n",
    "desired_pose = np.array(sim.getObjectMatrix(p2,frame_handles[0])).round(3).reshape(3,4)"
   ]
  },
  {
   "cell_type": "code",
   "execution_count": null,
   "id": "dc4930f6",
   "metadata": {},
   "outputs": [],
   "source": [
    "p3 = sim.getObjectHandle('/p3')\n",
    "desired_pose = np.array(sim.getObjectMatrix(p3,frame_handles[0])).round(3).reshape(3,4)"
   ]
  },
  {
   "cell_type": "code",
   "execution_count": null,
   "id": "26431775",
   "metadata": {},
   "outputs": [],
   "source": [
    "p4 = sim.getObjectHandle('/p4')\n",
    "desired_pose = np.array(sim.getObjectMatrix(p4,frame_handles[0])).round(3).reshape(3,4)"
   ]
  },
  {
   "cell_type": "code",
   "execution_count": null,
   "id": "af8b30eb",
   "metadata": {},
   "outputs": [],
   "source": [
    "p5 = sim.getObjectHandle('/p5')\n",
    "desired_pose = np.array(sim.getObjectMatrix(p5,frame_handles[0])).round(3).reshape(3,4)"
   ]
  },
  {
   "cell_type": "code",
   "execution_count": 6,
   "id": "5b6a7d89",
   "metadata": {},
   "outputs": [],
   "source": [
    "L1 = sim.getObject('/L1')\n",
    "desired_pose = np.array(sim.getObjectMatrix(L1,frame_handles[0])).round(3).reshape(3,4)"
   ]
  },
  {
   "cell_type": "markdown",
   "id": "c90af39f",
   "metadata": {},
   "source": [
    "### Apply inverse kinematics to reach desired Pose"
   ]
  },
  {
   "cell_type": "code",
   "execution_count": 7,
   "id": "9d939302",
   "metadata": {
    "scrolled": false
   },
   "outputs": [
    {
     "name": "stdout",
     "output_type": "stream",
     "text": [
      "T6_0\n",
      " [[ 1.    0.    0.   -0.03]\n",
      " [ 0.   -0.    1.    0.42]\n",
      " [ 0.   -1.   -0.    0.39]\n",
      " [ 0.    0.    0.    1.  ]]\n",
      "desired_pose\n",
      " [[ 1.    0.    0.   -0.02]\n",
      " [-0.   -0.    1.    0.42]\n",
      " [ 0.   -1.   -0.    0.39]]\n"
     ]
    }
   ],
   "source": [
    "#get new joint angles and error\n",
    "q_current , error = ik(q_current,desired_pose,joint_types)\n",
    "n = 0\n",
    "\n",
    "while(error > 0.001):\n",
    "        if(n < max_iter):\n",
    "            n += 1     \n",
    "            #Move joints to new joint angles\n",
    "            for i in range(6):\n",
    "                sim.setJointTargetPosition(joint_handles[i],q_current[i])\n",
    "            \n",
    "            q_current , error = ik(q_current,desired_pose,joint_types)\n",
    "\n",
    "        else:\n",
    "            break\n",
    "            \n",
    "# Get Transformation from end-effector frame to base frame\n",
    "dh_table = get_dh_table(q_current)\n",
    "Ti_1_0 = to_base_frame(dh_table) \n",
    "T6_0 = Ti_1_0[-1]\n",
    "\n",
    "print(\"T6_0\\n\",T6_0.round(2))\n",
    "\n",
    "time.sleep(2)\n",
    "print(\"desired_pose\\n\",desired_pose.round(2))"
   ]
  },
  {
   "cell_type": "markdown",
   "id": "607f22d2",
   "metadata": {},
   "source": [
    "# Linear Interpolation"
   ]
  },
  {
   "cell_type": "code",
   "execution_count": 8,
   "id": "2f558b3b",
   "metadata": {},
   "outputs": [],
   "source": [
    "L1 = sim.getObject('/L1')\n",
    "L2 = sim.getObject('/L2')\n",
    "L3 = sim.getObject('/L3')"
   ]
  },
  {
   "cell_type": "code",
   "execution_count": 9,
   "id": "b704f954",
   "metadata": {
    "scrolled": true
   },
   "outputs": [],
   "source": [
    "seg = 1\n",
    "\n",
    "while(sim.getSimulationTime()<6*60):\n",
    "    \n",
    "    if(seg==1):\n",
    "        time.sleep(1.5)\n",
    "        initial_pose = np.array(sim.getObjectMatrix(L1,frame_handles[0])).round(3).reshape(3,4)\n",
    "        final_pose = np.array(sim.getObjectMatrix(L2,frame_handles[0])).round(3).reshape(3,4)\n",
    "    elif(seg==2):\n",
    "        initial_pose = np.array(sim.getObjectMatrix(L2,frame_handles[0])).round(3).reshape(3,4)\n",
    "        final_pose = np.array(sim.getObjectMatrix(L3,frame_handles[0])).round(3).reshape(3,4)\n",
    "    elif(seg==3):\n",
    "        initial_pose = np.array(sim.getObjectMatrix(L3,frame_handles[0])).round(3).reshape(3,4)\n",
    "        final_pose = np.array(sim.getObjectMatrix(L1,frame_handles[0])).round(3).reshape(3,4)\n",
    "    \n",
    "    if(seg<3):\n",
    "        seg = seg+1\n",
    "    else:\n",
    "        seg = 1\n",
    "    \n",
    "    poses = generate_path(initial_pose,final_pose,0.02,2)\n",
    "\n",
    "    #Apply Inverse Kinematics\n",
    "    for i in range(len(poses)):\n",
    "\n",
    "        desired_pose = poses[i]\n",
    "        #get new joint angles and error\n",
    "        q_current , error = ik(q_current,desired_pose,joint_types)\n",
    "        n = 0\n",
    "        max_iter = 3\n",
    "        while(error > 0.001):\n",
    "                if(n < max_iter):\n",
    "                    n += 1\n",
    "                    #Move joints to new joint angles\n",
    "                    for i in range(6):\n",
    "                        sim.setJointTargetPosition(joint_handles[i],q_current[i])\n",
    "\n",
    "                    q_current , error = ik(q_current,desired_pose,joint_types)\n",
    "                else:\n",
    "                    break\n",
    "        \n",
    "sim.stopSimulation()"
   ]
  },
  {
   "cell_type": "code",
   "execution_count": null,
   "id": "e8f6d302",
   "metadata": {},
   "outputs": [],
   "source": []
  }
 ],
 "metadata": {
  "kernelspec": {
   "display_name": "Python 3 (ipykernel)",
   "language": "python",
   "name": "python3"
  },
  "language_info": {
   "codemirror_mode": {
    "name": "ipython",
    "version": 3
   },
   "file_extension": ".py",
   "mimetype": "text/x-python",
   "name": "python",
   "nbconvert_exporter": "python",
   "pygments_lexer": "ipython3",
   "version": "3.11.5"
  }
 },
 "nbformat": 4,
 "nbformat_minor": 5
}
